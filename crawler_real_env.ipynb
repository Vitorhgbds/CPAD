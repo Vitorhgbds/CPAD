{
 "cells": [
  {
   "cell_type": "markdown",
   "metadata": {},
   "source": [
    "# Webscrapping using Selenium"
   ]
  },
  {
   "cell_type": "code",
   "execution_count": 1,
   "metadata": {},
   "outputs": [],
   "source": [
    "from selenium import webdriver\n",
    "from selenium.webdriver.common.by import By"
   ]
  },
  {
   "cell_type": "code",
   "execution_count": 2,
   "metadata": {},
   "outputs": [],
   "source": [
    "#Configurando o Chrome para o acesso\n",
    "chrome_options = webdriver.ChromeOptions()\n",
    "chrome_options.add_argument(\"--start-maximized\")\n",
    "chrome_options.add_argument('--lang=en-US')\n",
    "\n",
    "#Acessando o Driver\n",
    "driver = webdriver.Chrome(chrome_options)\n",
    "driver.get(\"https://www.imdb.com\")"
   ]
  },
  {
   "cell_type": "code",
   "execution_count": 8,
   "metadata": {},
   "outputs": [],
   "source": [
    "menu = driver.find_element(By.XPATH,r'//*[@id=\"imdbHeader-navDrawerOpen\"]') \n",
    "menu.click()"
   ]
  },
  {
   "cell_type": "code",
   "execution_count": 9,
   "metadata": {},
   "outputs": [],
   "source": [
    "link_populares = driver.find_element(By.LINK_TEXT, r'Top 250 Movies')\n",
    "url = link_populares.get_attribute(\"href\")\n",
    "driver.get(url)\n",
    "\n",
    "tag_ul = driver.find_element(By.XPATH,r'//*[@id=\"__next\"]/main/div/div[3]/section/div/div[2]/div/ul')\n",
    "movies_list = tag_ul.find_elements(By.TAG_NAME,\"li\")"
   ]
  },
  {
   "cell_type": "code",
   "execution_count": 10,
   "metadata": {},
   "outputs": [],
   "source": [
    "from dataclasses import dataclass\n",
    "\n",
    "@dataclass\n",
    "class Movie():\n",
    "    title: str\n",
    "    year: str\n",
    "    rating: float\n",
    "    movie_page_link: str\n",
    "    poster_image_link: str\n",
    "    genders: list\n",
    "    popularity: str\n",
    "    directors: list"
   ]
  },
  {
   "cell_type": "code",
   "execution_count": 11,
   "metadata": {},
   "outputs": [],
   "source": [
    "import re\n",
    "\n",
    "def populate_movie(imdb_li_tag):\n",
    "\n",
    "    title = imdb_li_tag.find_element(By.CLASS_NAME, \"ipc-title__text\").text #pegamos o texto do elemento\n",
    "\n",
    "    year = imdb_li_tag.text.split(\"\\n\")[1]\n",
    "    \n",
    "    #Do jeito que está os ratings gerados sempre vem como None para cada filme\n",
    "    #Como os dados estão sendo recebidos em forma de texto, estamos buscando apenas do início até a posição\n",
    "    #2 da string visto que não temos nenhum filme com nota 10.0\n",
    "    rating_text = imdb_li_tag.find_element(By.CLASS_NAME, \"ipc-rating-star\").text[:3] #este texto está 'sujo', contém o número de votos também\n",
    "    \n",
    "    movie_page_link = imdb_li_tag.find_element(By.CLASS_NAME, \"ipc-title-link-wrapper\").get_attribute(\"href\")\n",
    "\n",
    "    poster_image_link = imdb_li_tag.find_element(By.CLASS_NAME, \"ipc-image\").get_attribute(\"src\")\n",
    "\n",
    "    #return Movie(title,year,rating,movie_page_link)\n",
    "    return Movie(title,year,rating_text,movie_page_link,poster_image_link,None,None,None)"
   ]
  },
  {
   "cell_type": "code",
   "execution_count": null,
   "metadata": {},
   "outputs": [],
   "source": [
    "populated_movies_list = []\n",
    "\n",
    "for movie_tag in movies_list:\n",
    "    movie = populate_movie(movie_tag)\n",
    "    populated_movies_list.append(movie)"
   ]
  },
  {
   "cell_type": "code",
   "execution_count": 16,
   "metadata": {},
   "outputs": [],
   "source": [
    "for movie in populated_movies_list:\n",
    "    driver.get(movie.movie_page_link)\n",
    "    try:\n",
    "        movie.genders = driver.find_element(By.CLASS_NAME, \"ipc-chip-list__scroller\").text.split(\"\\n\")\n",
    "    except:\n",
    "        pass\n",
    "    try:\n",
    "        movie.popularity = driver.find_element(By.XPATH,'//*[@id=\"__next\"]/main/div/section[1]/section/div[3]/section/section/div[2]/div[2]/div/div[3]/a/span/div/div[2]/div[1]').text\n",
    "    except:\n",
    "        pass\n",
    "    try:\n",
    "        movie.directors = driver.find_element(By.CLASS_NAME, \"ipc-metadata-list__item\").text.split(\"\\n\")[1:]\n",
    "    except:\n",
    "        pass"
   ]
  },
  {
   "cell_type": "code",
   "execution_count": 17,
   "metadata": {},
   "outputs": [],
   "source": [
    "import json\n",
    "\n",
    "with open('movies.json', 'w') as file:\n",
    " for movie in populated_movies_list:\n",
    "   json.dump(movie.__dict__, file, ensure_ascii=False, indent=2) #.__dict__ converte um filme em uma estrutura do tipo Dicionário"
   ]
  },
  {
   "cell_type": "code",
   "execution_count": null,
   "metadata": {},
   "outputs": [],
   "source": [
    "driver.quit()"
   ]
  }
 ],
 "metadata": {
  "kernelspec": {
   "display_name": "cpad_t1_webscrapping",
   "language": "python",
   "name": "python3"
  },
  "language_info": {
   "codemirror_mode": {
    "name": "ipython",
    "version": 3
   },
   "file_extension": ".py",
   "mimetype": "text/x-python",
   "name": "python",
   "nbconvert_exporter": "python",
   "pygments_lexer": "ipython3",
   "version": "3.10.12"
  },
  "orig_nbformat": 4
 },
 "nbformat": 4,
 "nbformat_minor": 2
}
