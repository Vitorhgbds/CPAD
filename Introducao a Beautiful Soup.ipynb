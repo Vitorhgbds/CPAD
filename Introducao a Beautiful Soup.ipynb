{
 "cells": [
  {
   "cell_type": "markdown",
   "id": "7496c476-4401-4078-a7e8-16d38ec9222b",
   "metadata": {},
   "source": [
    "<h1>Laboratório Prático 1 - Beautiful Soup</h1>"
   ]
  },
  {
   "cell_type": "markdown",
   "id": "775c56af-b891-451d-b39f-d818528fd500",
   "metadata": {
    "jp-MarkdownHeadingCollapsed": true
   },
   "source": [
    "<h2>Introdução</h2>"
   ]
  },
  {
   "cell_type": "markdown",
   "id": "a41e09db-a3f5-4572-bcc3-be2cacbc966e",
   "metadata": {},
   "source": [
    "Neste laboratório, veremos como utilizar na prática a biblioteca BeautifulSoup, muito útil para realizar web scrapings com sites que não utilizem conteúdos dinâmicos.\n",
    "\n",
    "Este laboratório tem como base a própria documentação da bilioteca, que pode ser encontrada em:\n",
    "https://www.crummy.com/software/BeautifulSoup/bs4/doc/"
   ]
  },
  {
   "cell_type": "markdown",
   "id": "6ea99b7d-db29-44b0-8b4d-e83e76635b10",
   "metadata": {},
   "source": [
    "Abaixo criaremos um variável com o HTML que utilizaremos como exemplo neste laboratório. É um trecho de \"Alice no País das Maravilhas\" formatado em HTML."
   ]
  },
  {
   "cell_type": "code",
   "execution_count": null,
   "id": "d47faa3f-991d-433f-90d8-46876ad31d48",
   "metadata": {},
   "outputs": [],
   "source": [
    "html_doc = \"\"\"\n",
    "<html><head><title>The Dormouse's story</title></head>\n",
    "<body>\n",
    "<p class=\"title\"><b>The Dormouse's story</b></p>\n",
    "\n",
    "<p class=\"story\">Once upon a time there were three little sisters; and their names were\n",
    "<a href=\"http://example.com/elsie\" class=\"sister\" id=\"link1\">Elsie</a>,\n",
    "<a href=\"http://example.com/lacie\" class=\"sister\" id=\"link2\">Lacie</a> and\n",
    "<a href=\"http://example.com/tillie\" class=\"sister\" id=\"link3\">Tillie</a>;\n",
    "and they lived at the bottom of a well.</p>\n",
    "\n",
    "<p class=\"story\">...</p>\n",
    "\"\"\""
   ]
  },
  {
   "cell_type": "markdown",
   "id": "52e3ee81-791e-43cb-9191-43998d6fddb8",
   "metadata": {},
   "source": [
    "Considerando que já tenhamos a biblioteca instalada, podemos ver como o BeautifulSoup armazena o HTML."
   ]
  },
  {
   "cell_type": "code",
   "execution_count": null,
   "id": "e68bf965-fff5-46e3-964f-a1432f322a10",
   "metadata": {},
   "outputs": [],
   "source": [
    "from bs4 import BeautifulSoup\n",
    "soup = BeautifulSoup(html_doc, 'html.parser')\n",
    "\n",
    "print(soup.prettify())\n"
   ]
  },
  {
   "cell_type": "markdown",
   "id": "ed1dd8e0-2e99-45fb-89d9-c2968162cc62",
   "metadata": {},
   "source": [
    "O Beautiful Soup não só suporta o parser HTML incluído na biblioteca padrão do Python como também inúmeros parsers de terceiros. Abaixo, temos uma tabela listando os principais parsers que podem ser utilizado com BeautifulSoup.\n",
    "\n",
    "Se não for passado nenhum parser quando um objeto BS for instanciado, a biblioteca utiliza automaticamente o parser padrão do Python.\n",
    "\n",
    "<table border=\"1\" class=\"docutils\">\r\n",
    "<colgroup>\r\n",
    "<col width=\"18%\">\r\n",
    "<col width=\"35%\">\r\n",
    "<col width=\"26%\">\r\n",
    "<col width=\"21%\">\r\n",
    "</colgroup>\r\n",
    "<tbody valign=\"top\">\r\n",
    "<tr class=\"row-odd\"><td>Parser</td>\r\n",
    "<td>Uso Padrão</td>\r\n",
    "<td>Vantagens</td>\r\n",
    "<td>Desvantagens</td>\r\n",
    "</tr>\r\n",
    "<tr class=\"row-even\"><td>html.parser (puro)</td>\r\n",
    "<td><code class=\"docutils literal notranslate\"><span class=\"pre\">BeautifulSoup(markup,</span> <span class=\"pre\">\"html.parser\")</span></code></td>\r\n",
    "<td><ul class=\"first last simple\">\r\n",
    "<li>Baterias inclusas</li>\r\n",
    "<li>Velocidade Decente</li>\r\n",
    "<li>Leniente (Python 2.7.3\r\n",
    "e 3.2.)</li>\r\n",
    "</ul>\r\n",
    "</td>\r\n",
    "<td><ul class=\"first last simple\">\r\n",
    "<li>Não tão rápido quanto\r\n",
    "lxml, menos leniente\r\n",
    "que html5lib.</li>\r\n",
    "</ul>\r\n",
    "</td>\r\n",
    "</tr>\r\n",
    "<tr class=\"row-odd\"><td>HTML (lxml)</td>\r\n",
    "<td><code class=\"docutils literal notranslate\"><span class=\"pre\">BeautifulSoup(markup,</span> <span class=\"pre\">\"lxml\")</span></code></td>\r\n",
    "<td><ul class=\"first last simple\">\r\n",
    "<li>Muito rápido</li>\r\n",
    "<li>Leniente</li>\r\n",
    "</ul>\r\n",
    "</td>\r\n",
    "<td><ul class=\"first last simple\">\r\n",
    "<li>Dependencia externa de\r\n",
    "C</li>\r\n",
    "</ul>\r\n",
    "</td>\r\n",
    "</tr>\r\n",
    "<tr class=\"row-even\"><td>XML (lxml)</td>\r\n",
    "<td><code class=\"docutils literal notranslate\"><span class=\"pre\">BeautifulSoup(markup,</span> <span class=\"pre\">\"lxml-xml\")</span></code>\r\n",
    "<code class=\"docutils literal notranslate\"><span class=\"pre\">BeautifulSoup(markup,</span> <span class=\"pre\">\"xml\")</span></code></td>\r\n",
    "<td><ul class=\"first last simple\">\r\n",
    "<li>Muito rápido</li>\r\n",
    "<li>O único parser XML atualmente\r\n",
    "suportado</li>\r\n",
    "</ul>\r\n",
    "</td>\r\n",
    "<td><ul class=\"first last simple\">\r\n",
    "<li>Dependência externa de\r\n",
    "C</li>\r\n",
    "</ul>\r\n",
    "</td>\r\n",
    "</tr>\r\n",
    "<tr class=\"row-odd\"><td>html5lib</td>\r\n",
    "<td><code class=\"docutils literal notranslate\"><span class=\"pre\">BeautifulSoup(markup,</span> <span class=\"pre\">\"html5lib\")</span></code></td>\r\n",
    "<td><ul class=\"first last simple\">\r\n",
    "<li>Extremamente leniente</li>\r\n",
    "<li>Analisa as páginas da mesma\r\n",
    "maneira que o navegador o faz</li>\r\n",
    "<li>Cria HTML5 válidos</li>\r\n",
    "</ul>\r\n",
    "</td>\r\n",
    "<td><ul class=\"first last simple\">\r\n",
    "<li>Muito lento</li>\r\n",
    "<li>Dependência externa de\r\n",
    "Python</li>\r\n",
    "</ul>\r\n",
    "</td>\r\n",
    "</tr>\r\n",
    "</tbody>\r\n",
    "</table>"
   ]
  },
  {
   "cell_type": "markdown",
   "id": "94f3454d-7c85-46ac-a83f-452d864ce5dd",
   "metadata": {},
   "source": [
    "<h2>Criando um objeto do tipo BeautifulSoup</h2>\n"
   ]
  },
  {
   "cell_type": "markdown",
   "id": "12c2fdae-f9d5-46b5-a797-b8cbd06f1bfe",
   "metadata": {},
   "source": [
    "Para analisar um documento HTML (ou XML), basta passar ele como argumento dentro de um construtor BeautifulSoup. O Beautiful Soup então interpreta o documento usando o melhor parser disponível."
   ]
  },
  {
   "cell_type": "code",
   "execution_count": null,
   "id": "ccb148a8-9245-4fba-899c-db22d518ec95",
   "metadata": {},
   "outputs": [],
   "source": [
    "soup = BeautifulSoup(html_doc)\n",
    "print(soup)"
   ]
  },
  {
   "cell_type": "markdown",
   "id": "d0ddda0b-2858-4cb7-83d8-d4f79264f14a",
   "metadata": {},
   "source": [
    "<h2>Tipos de Objeto</h2>\n",
    "\n",
    "\n"
   ]
  },
  {
   "cell_type": "markdown",
   "id": "b274b95a-35c6-499b-b7f0-1646d16fe8fe",
   "metadata": {},
   "source": [
    "O Beautiful Soup transforma um documento HTML complexo em uma complexa árvore de objetos Python. Mas você terá apenas que lidar com quatro tipos de objetos: <b>Tag</b>, <b>NavigableString</b>, <b>BeautifulSoup</b> e <b>Comment</b>."
   ]
  },
  {
   "cell_type": "markdown",
   "id": "4dc5a428-2ac4-4c0c-82ff-1281785c3ca6",
   "metadata": {
    "jp-MarkdownHeadingCollapsed": true
   },
   "source": [
    "<h3>Tag</h3>\n",
    "\n"
   ]
  },
  {
   "cell_type": "markdown",
   "id": "dc3cc267-624b-40f1-8aa0-55c378d5d45f",
   "metadata": {},
   "source": [
    "Um objeto Tag corresponde a uma tag XML ou HTML do documento original. Tags possuem diversos atributos e métodos que podem ser utilizados para acessá-las. \n",
    "\n",
    "Por exemplo, podemos acessar uma tag chamando diretamente seu nome dentro do objeto BS. Note que quando existirem diversas tags com o mesmo nome somente a primeira ocorrência dela será acessada."
   ]
  },
  {
   "cell_type": "code",
   "execution_count": null,
   "id": "9459adbe-1324-4fae-9cfb-96a41f56d06c",
   "metadata": {},
   "outputs": [],
   "source": [
    "tag_paragrafo = soup.p\n",
    "print(tag_paragrafo)"
   ]
  },
  {
   "cell_type": "markdown",
   "id": "f5a29083-2875-4b38-ba05-95253a798706",
   "metadata": {},
   "source": [
    "Tags também podem possuir diversos atributos HTML que podemos acessar diretamente:"
   ]
  },
  {
   "cell_type": "code",
   "execution_count": null,
   "id": "9883ad5a-f8fd-4682-92f2-9131d4afe19f",
   "metadata": {},
   "outputs": [],
   "source": [
    "print(tag_paragrafo[\"class\"])\n",
    "tag_link = soup.a\n",
    "print(tag_link[\"class\"])"
   ]
  },
  {
   "cell_type": "markdown",
   "id": "2ec577c2-c9f8-41f0-9405-3d03b0d0907d",
   "metadata": {
    "jp-MarkdownHeadingCollapsed": true
   },
   "source": [
    "<h3>Navigable String</h3>\n",
    "Uma string corresponde a um texto dentro de uma tag. O Beautiful Soup usa a classe NavigableString para armazenar este texto."
   ]
  },
  {
   "cell_type": "code",
   "execution_count": null,
   "id": "039f3717-7eab-48f7-9c82-17736ba03cdb",
   "metadata": {},
   "outputs": [],
   "source": [
    "print(tag_paragrafo.string)"
   ]
  },
  {
   "cell_type": "markdown",
   "id": "dbcd283e-1bf0-406f-9be7-2af2d629d4e7",
   "metadata": {},
   "source": [
    "<h3>BeautifulSoup</h3>\n",
    "O objeto BeautifulSoup em si representa o documento como um todo. Para maioria dos propósitos, você pode tratá-lo como um objeto Tag. Isso significa que irá suportar a maioria dos métodos que a classe Tag possui, porém como não é uma Tag propriamente dita, não possui nome nem atributos."
   ]
  },
  {
   "cell_type": "markdown",
   "id": "0ae500a1-efd2-4771-ba1f-a6ae14b38999",
   "metadata": {
    "jp-MarkdownHeadingCollapsed": true
   },
   "source": [
    "<h3>Comment</h3>\n",
    "Tag, NavigableString, e BeautifulSoup abrangem quase tudo o que você encontrará em um arquivo HTML ou XML, mas há alguns pontos faltando. O único deles que você provavelmente precisará se preocupar é o comentário. Na prática, o objeto Comment é apenas um tipo especial de NavigableString. A diferença é que quando aparece como parte de um documento HTML, um Comment é exibido com uma formatação especial:\n"
   ]
  },
  {
   "cell_type": "code",
   "execution_count": null,
   "id": "2c9d4d1e-6769-4fcf-b5f2-7beb0f4504f8",
   "metadata": {},
   "outputs": [],
   "source": [
    "markup = \"<b><!--Hey, buddy. Want to buy a used parser?--></b>\"\n",
    "soup_comentario = BeautifulSoup(markup)\n",
    "comment = soup_comentario.b.string\n",
    "print(type(comment))\n",
    "print(soup_comentario.b.prettify())"
   ]
  },
  {
   "cell_type": "markdown",
   "id": "df4ae068-bf72-4271-b697-b521e96a9458",
   "metadata": {},
   "source": [
    "<h2>Navegando pela árvore BeautifulSoup</h2>"
   ]
  },
  {
   "cell_type": "markdown",
   "id": "b31acabd-a379-4b74-9c03-29e2f1b78205",
   "metadata": {},
   "source": [
    "Podemos navegar pela árvore do HTML criada pelo BeautifulSoup diretamente pelos nomes e atributos das tags ou através de seus métodos. O mais indicado é o acesso via métodos, pois além de permitir uma busca em qualquer posição na árvore (o acesso direto pelo nome apenas retorna a primeira ocorrência da tag) é mais fácil de lidar com possíveis erros no HTML e com isso tornar o código mais robusto.\n",
    "\n",
    "De maneira geral, BeautifulSoup trabalha com dois métodos básicos: <b>find_all()</b> e o método <b>find()</b>. Também existem diversas variações que modificam algum aspecto destes métodos básicos. Veremos em mais profundidade o método find_all() e depois as variações.\n",
    "\n",
    "Além dos métodos \"find\", existe também um método chamado <b>select()</b>, que funciona com base em selectores CSS. Veremos este método na próxima seção, onde falaremos mais a fundo sobre CSS."
   ]
  },
  {
   "cell_type": "markdown",
   "id": "70dc7d8e-ee3e-46e7-a210-0606c6043d41",
   "metadata": {},
   "source": [
    "Por conveniência, vamos recarregar e visualizar outra vez nosso HTML do texto de \"Alice no País das Maravilhas\"."
   ]
  },
  {
   "cell_type": "code",
   "execution_count": null,
   "id": "56fba62c-7d6d-42b6-836c-e1613c9b4ccd",
   "metadata": {},
   "outputs": [],
   "source": [
    "soup = BeautifulSoup(html_doc)\n",
    "print(soup)"
   ]
  },
  {
   "cell_type": "markdown",
   "id": "cf24b8e3-c9ce-4b11-9c53-a4e1968d0fa0",
   "metadata": {},
   "source": [
    "<h3>find_all()</h3>\n"
   ]
  },
  {
   "cell_type": "markdown",
   "id": "9111431e-66bb-4169-bd0b-18ead1de7faa",
   "metadata": {},
   "source": [
    "Definição: find_all(name, attrs, recursive, string, limit, **kwargs)\n",
    "\n",
    "\n",
    "O método find_all() busca entre os decendentes de uma tag e retorna todos os decendentes que correspondem a seus filtros. Os tipos de filtros podem ser uma <i>string</i>, uma <i>lista</i>, uma <i>expressão regular</i>, uma <i>função</i> ou o valor <i>True</i>."
   ]
  },
  {
   "cell_type": "markdown",
   "id": "ab7d556f-66af-401a-adc5-8b93910c6da1",
   "metadata": {},
   "source": [
    "<h4>Filtros</h4>"
   ]
  },
  {
   "cell_type": "markdown",
   "id": "9e7dc7c2-e111-4ebb-8411-24c2e449a383",
   "metadata": {},
   "source": [
    "<h5>String</h5>\n",
    "O filtro mais simples é uma string. Passando uma string para um método de pesquisa, o Beautiful Soup irá buscar uma correspondência a esta exata string. O seguinte código encontrará todas as tags <b>b</b> no documento:"
   ]
  },
  {
   "cell_type": "code",
   "execution_count": null,
   "id": "d3dbad41-0216-42e8-964a-144454494911",
   "metadata": {},
   "outputs": [],
   "source": [
    "soup.find_all('b')"
   ]
  },
  {
   "cell_type": "markdown",
   "id": "3a7be75a-8e13-4e80-b1c8-0cb6942c1ea8",
   "metadata": {},
   "source": [
    "<h5>Lista</h5>\n",
    "\n",
    "Se você passar uma lista, o Beautiful Soup irá buscar uma correspondência com qualquer item dessuma lista. O código seguinte buscará todas as tags <b>a</b> (hyperlinks) e todas as tags <b>b</b> (texto em negrito):"
   ]
  },
  {
   "cell_type": "code",
   "execution_count": null,
   "id": "35f065c5-14e2-4249-92ae-41a79f492bfc",
   "metadata": {},
   "outputs": [],
   "source": [
    "soup.find_all([\"a\", \"b\"])"
   ]
  },
  {
   "cell_type": "markdown",
   "id": "fe229051-e230-4784-bd11-b5836c0d2372",
   "metadata": {},
   "source": [
    "<h5>Expressão Regular</h5>\n",
    "Se você passar um objeto regex, o Beautiful Soup irá realizar um filtro com ela utilizando seu método search(). O código seguinte buscará todas as tags as quais os nomes comecem com a letra “b”; neste caso, a tag <b>body</b> e a tag <b>b</b>:"
   ]
  },
  {
   "cell_type": "code",
   "execution_count": null,
   "id": "1ebaf036-06d5-4f9c-bbe6-7ce61ce51040",
   "metadata": {},
   "outputs": [],
   "source": [
    "import re\n",
    "for tag in soup.find_all(re.compile(\"^b\")):\n",
    "    print(tag.name)"
   ]
  },
  {
   "cell_type": "markdown",
   "id": "491f030e-3123-4d7d-b4e0-cbbddb51ef39",
   "metadata": {
    "jp-MarkdownHeadingCollapsed": true
   },
   "source": [
    "<h5>True</h5>\n",
    "O valor True irá corresponder com tudo. O código abaixo encontrará todas as tags do documento, mas nenhuma das strings:"
   ]
  },
  {
   "cell_type": "code",
   "execution_count": null,
   "id": "6984b06e-1c4a-4ec1-9558-f5ba00996ea8",
   "metadata": {},
   "outputs": [],
   "source": [
    "for tag in soup.find_all(True):\n",
    "    print(tag.name)"
   ]
  },
  {
   "cell_type": "markdown",
   "id": "919b1eb3-6e83-4f95-be63-ef2d2b839d88",
   "metadata": {},
   "source": [
    "<h5>Função</h5>\n",
    "Se nenhuma das opções anteriores funcionar para você, defina uma função que pegará um elemento como seu único argumento. A função deverá retornar True se o argumento corresponder e False caso contrário.\r\n",
    "\n",
    "A função pode ser tão complexa quanto você precise que seja. Aqui temos uma função que retorna True se uma tag esta cercada por objetos string:d:"
   ]
  },
  {
   "cell_type": "code",
   "execution_count": null,
   "id": "88d6750c-6433-4d96-9361-97de9bcb1e37",
   "metadata": {},
   "outputs": [],
   "source": [
    "from bs4 import NavigableString\n",
    "def surrounded_by_strings(tag):\n",
    "    return (isinstance(tag.next_element, NavigableString)\n",
    "            and isinstance(tag.previous_element, NavigableString))\n",
    "\n",
    "for tag in soup.find_all(surrounded_by_strings):\n",
    "    print(tag.name)"
   ]
  },
  {
   "cell_type": "markdown",
   "id": "ee04dc38-78f2-4714-a1c1-d88b6ad0a610",
   "metadata": {},
   "source": [
    "Passe esta função dentro de find_all() e você irá retornar todas as tags <b>p</b>:"
   ]
  },
  {
   "cell_type": "markdown",
   "id": "b2d5ba13-0727-4ab6-a508-bbea55530752",
   "metadata": {},
   "source": [
    "<h4>Argumentos da função find_all()</h4>\n",
    "A função find_all é definida assim: find_all(name, attrs, recursive, string, limit, **kwargs). Veremos cada um destes argumentos agora."
   ]
  },
  {
   "cell_type": "markdown",
   "id": "f06db606-b669-4275-b49f-488f1002dd40",
   "metadata": {
    "jp-MarkdownHeadingCollapsed": true
   },
   "source": [
    "<h5>Argumento <i>name</i></h5>"
   ]
  },
  {
   "cell_type": "markdown",
   "id": "dae34843-0913-421a-8cd2-8bf9e8da6cb1",
   "metadata": {},
   "source": [
    "É o uso mais simples, foi como usamos os filtros até agora. Quando passamos um valor para o argumento <i>name</i> o BeautifulSoup considera apenas tags com os nomes passados, seja uma string literal ou qualquer outro filtro."
   ]
  },
  {
   "cell_type": "code",
   "execution_count": null,
   "id": "6b3bb7a1-7924-425f-966b-7dcbf964a0a7",
   "metadata": {},
   "outputs": [],
   "source": [
    "soup.find_all(\"title\")"
   ]
  },
  {
   "cell_type": "markdown",
   "id": "e1c6f065-ab6a-4e21-bfd4-d6a841cc1e0d",
   "metadata": {
    "jp-MarkdownHeadingCollapsed": true
   },
   "source": [
    "<h5>Argumento <i>attrs</i></h5>"
   ]
  },
  {
   "cell_type": "markdown",
   "id": "acec87a8-c7af-4954-9580-4e5f3f4fa006",
   "metadata": {},
   "source": [
    "Qualquer argumento que não for reconhecido se tornará um filtro de <b>atributos</b> da tag. Se você passar um valor para um argumento chamado id, o Beautiful Soup irá buscar correspondentes entre todas tags que possuam o atributo id com o valor passado. Tags que tenham atributo id com valor 'link2':"
   ]
  },
  {
   "cell_type": "code",
   "execution_count": null,
   "id": "cc82a7c9-3d90-4155-8767-4fe48df60a11",
   "metadata": {},
   "outputs": [],
   "source": [
    "soup.find_all(id='link2')"
   ]
  },
  {
   "cell_type": "markdown",
   "id": "16314031-38af-48a4-a01e-e7e67f74dd9a",
   "metadata": {},
   "source": [
    "Se você passar um valor para href, o Beautiful Soup buscar correspondentes em cada tag que possua o atributo href:"
   ]
  },
  {
   "cell_type": "code",
   "execution_count": null,
   "id": "844ffdad-6029-40ac-b26c-61390923fb7f",
   "metadata": {},
   "outputs": [],
   "source": [
    "soup.find_all(href=re.compile(\"elsie\"))"
   ]
  },
  {
   "cell_type": "markdown",
   "id": "73c58c40-c375-487d-b3eb-5c8ae3c95735",
   "metadata": {},
   "source": [
    "Na busca acima, passamos uma expressão regular para o nome \"elsie\" porque o match que o Beautiful Soup faz é <i>literal</i>, ou seja, ele procura exatamente o texto passado. O que a regex fez nesta caso foi aceitar qualquer texto que contenha pelo menos parcialmente a string \"elsie\"."
   ]
  },
  {
   "cell_type": "markdown",
   "id": "d7c083dc-8c61-4573-a7fd-296a87d4f090",
   "metadata": {},
   "source": [
    "Você pode filtrar um atributo baseado em uma string, uma expressão regular, uma lista, uma função, ou o valor True.\n",
    "\n",
    "Este código encontra todas as tags em que o atributo id possuem um valor, independente de qual valor seja:"
   ]
  },
  {
   "cell_type": "code",
   "execution_count": null,
   "id": "414c8abb-6e40-481d-acd8-1c04eb7a4343",
   "metadata": {},
   "outputs": [],
   "source": [
    "soup.find_all(id=True)"
   ]
  },
  {
   "cell_type": "markdown",
   "id": "48a9d0ec-1ae4-46b4-8ff3-eccb0df75942",
   "metadata": {
    "jp-MarkdownHeadingCollapsed": true
   },
   "source": [
    "<h5>Argumento <i>string</i></h5>"
   ]
  },
  {
   "cell_type": "markdown",
   "id": "16149db8-dccf-4040-9005-89ae6fc8716a",
   "metadata": {},
   "source": [
    "Com o argumento <i>string</i> você pode buscar por strings ao invés de tags. Assim como <i>name</i> e os argumentos palavras-chave, você pode passar uma string, uma expressão regular, uma lista, uma função, ou o valor True. Aqui estão alguns exemplos:"
   ]
  },
  {
   "cell_type": "code",
   "execution_count": null,
   "id": "a630f121-4f10-462c-ac02-51c88e4fd657",
   "metadata": {},
   "outputs": [],
   "source": [
    "print(soup.find_all(string=\"Elsie\"))\n",
    "print(soup.find_all(string=[\"Tillie\", \"Elsie\", \"Lacie\"]))\n",
    "print(soup.find_all(string=re.compile(\"Dormouse\")))"
   ]
  },
  {
   "cell_type": "markdown",
   "id": "82d1527d-7fd7-44f9-875e-55e141a11bfa",
   "metadata": {
    "jp-MarkdownHeadingCollapsed": true
   },
   "source": [
    "<h5>Argumento <i>limit</i></h5>"
   ]
  },
  {
   "cell_type": "markdown",
   "id": "717d0cda-867a-4814-8b3e-c496cfa2e8e6",
   "metadata": {},
   "source": [
    "find_all() retorna todas as tags e strings que correspondem aos seus filtros. Isso pode levar algum tempo se o documento for extenso. Se você não precisar de todos os resultados, você pode passar um número limite (limit). Ele diz ao Beautiful Soup para parar de adquirir resultados assim que atingir um certo número."
   ]
  },
  {
   "cell_type": "code",
   "execution_count": null,
   "id": "282eff05-3ce6-49df-9325-c32fb5652f41",
   "metadata": {},
   "outputs": [],
   "source": [
    "soup.find_all(\"a\", limit=2)"
   ]
  },
  {
   "cell_type": "markdown",
   "id": "9319b2ca-14b7-4549-a05e-5b7a1796d42c",
   "metadata": {
    "jp-MarkdownHeadingCollapsed": true
   },
   "source": [
    "<h5>Argumento <i>recursive</i></h5>"
   ]
  },
  {
   "cell_type": "markdown",
   "id": "012f4902-5463-43f4-9658-dee9a3a1fdea",
   "metadata": {},
   "source": [
    "Se você chamar tag.find_all(), o Beautiful Soup irá examinar todos os descendentes de tag: suas filhas, as filhas de suas filhas e daí em diante. Se você quer apenas que o Beautiful Soup considere filhas diretas, você pode passar o parâmetro recursive=False. Veja a diferença aqui:"
   ]
  },
  {
   "cell_type": "code",
   "execution_count": null,
   "id": "750adbcd-76f8-4f71-9d78-3bf2e2299973",
   "metadata": {},
   "outputs": [],
   "source": [
    "soup.html.find_all(\"title\")"
   ]
  },
  {
   "cell_type": "code",
   "execution_count": null,
   "id": "9870d64b-03c1-401b-8c08-50be40f02162",
   "metadata": {},
   "outputs": [],
   "source": [
    "soup.html.find_all(\"title\", recursive=False)"
   ]
  },
  {
   "cell_type": "markdown",
   "id": "fb6ef204-cc64-4e2f-b5cb-9ba8334c7687",
   "metadata": {
    "jp-MarkdownHeadingCollapsed": true
   },
   "source": [
    "<h5>Buscando por classes CSS</h5>"
   ]
  },
  {
   "cell_type": "markdown",
   "id": "92e04f7d-c328-4d94-8c43-6ff1e7353004",
   "metadata": {},
   "source": [
    "É muito útil buscar por uma tag que tem uma certa classe CSS, mas o nome do atributo CSS, “class”, é uma palavra reservada no Python. Utilizar class como um argumento palavra-chave lhe trará um erro de sintaxe. A partir do Beautiful Soup 4.1.2, você pode buscar por uma classe CSS utilizando o argumento palavra-chave <b>class_</b>"
   ]
  },
  {
   "cell_type": "code",
   "execution_count": null,
   "id": "5b723168-f204-44ae-86c3-d6293cac491d",
   "metadata": {},
   "outputs": [],
   "source": [
    "soup.find_all(\"a\", class_=\"sister\")"
   ]
  },
  {
   "cell_type": "markdown",
   "id": "82d62268-c025-492d-bf67-a5331c9496c7",
   "metadata": {},
   "source": [
    "Assim como qualquer argumento palavra-chave, você pode passar para class_ uma string, uma expressão regular (regex), uma função ou True.\n",
    "\n",
    "Lembre-se que uma tag pode ter valores múltiplos para seu atributo classe. Quando você buscar por uma tag que tenha uma certa classe CSS, você estará buscando correspondência em qualquer de suas classes CSS:"
   ]
  },
  {
   "cell_type": "code",
   "execution_count": null,
   "id": "56acb2b3-c9e2-435b-9130-a48b18baa87e",
   "metadata": {},
   "outputs": [],
   "source": [
    "css_soup = BeautifulSoup('<p class=\"body strikeout\"></p>')\n",
    "css_soup.find_all(\"p\", class_=\"strikeout\")"
   ]
  },
  {
   "cell_type": "code",
   "execution_count": null,
   "id": "b5fad211-31e4-4d16-b4b9-f7c53914e090",
   "metadata": {},
   "outputs": [],
   "source": [
    "css_soup.find_all(\"p\", class_=\"body\")"
   ]
  },
  {
   "cell_type": "markdown",
   "id": "47d06312-8c99-4c83-9992-ab799cb46ede",
   "metadata": {
    "jp-MarkdownHeadingCollapsed": true
   },
   "source": [
    "<h3>find()</h3>"
   ]
  },
  {
   "cell_type": "markdown",
   "id": "b2676f72-6ac4-4517-b874-7b509132d053",
   "metadata": {},
   "source": [
    "O método find_all() varre todo o documento em busca de resultados, mas algumas vezes você irá querer apenas um resultado. Se você sabe que o documento possui apenas uma tag <body>, é perda de tempo varrer todo o o documento procurando por outras. Ao invés de passar limit=1 toda vez em que chamar find_all, você pode usar o método find(). Estas duas linhas de código são quase equivalentes:"
   ]
  },
  {
   "cell_type": "code",
   "execution_count": null,
   "id": "eb62384e-79e6-45b8-a501-bd943946f413",
   "metadata": {},
   "outputs": [],
   "source": [
    "soup.find_all('title', limit=1)"
   ]
  },
  {
   "cell_type": "code",
   "execution_count": null,
   "id": "5f7df668-6f5b-497a-9f88-d9ebdbff0b06",
   "metadata": {},
   "outputs": [],
   "source": [
    "soup.find('title')"
   ]
  },
  {
   "cell_type": "markdown",
   "id": "7f1675ac-33e7-4191-8bac-e42191a04331",
   "metadata": {},
   "source": [
    "A única diferença é que find_all() retorna uma lista contendo apenas um resultado, enquanto find() retorna o resultado diretamente."
   ]
  },
  {
   "cell_type": "code",
   "execution_count": null,
   "id": "4b445af6-b7d1-49b1-91e1-3deae143217c",
   "metadata": {},
   "outputs": [],
   "source": [
    "print(type(soup.find_all('title', limit=1)))\n",
    "print(type(soup.find('title')))"
   ]
  },
  {
   "cell_type": "markdown",
   "id": "243c19b5-1360-4bec-9a4c-c4e82e8a1ebc",
   "metadata": {},
   "source": [
    "Outro aspecto relevante é que se find_all() não encontrar nada, ele retornará uma lista vazia. Já se find() não encontrar nada, ele retornará None."
   ]
  },
  {
   "cell_type": "markdown",
   "id": "0ea80755-e125-4a94-b992-418ab4d1c43b",
   "metadata": {
    "jp-MarkdownHeadingCollapsed": true
   },
   "source": [
    "<h3>Variações de find_all() e find()</h3>"
   ]
  },
  {
   "cell_type": "markdown",
   "id": "a1c3e039-3cc6-4169-80a5-867fee6b2432",
   "metadata": {},
   "source": [
    "A API do Beautiful Soup define dez outros métodos para buscas na árvore. Cinco destes métodos são basicamente o mesmo que find_all(), e os outros cinco são basicamente o mesmo que find(). A única diferença está em qual parte da árvore eles procuram."
   ]
  },
  {
   "cell_type": "markdown",
   "id": "8b270f0f-9b76-48f4-b4ca-dc6037375b2e",
   "metadata": {
    "jp-MarkdownHeadingCollapsed": true
   },
   "source": [
    "<h4>find_parents() e find_parent()</h4>"
   ]
  },
  {
   "cell_type": "markdown",
   "id": "b920b442-cdc9-40ae-a50a-933c8692feef",
   "metadata": {},
   "source": [
    "Lembre-se que find_all() e find() trabalham de sua própria maneira descendo através da árvore, procurando pelos descendentes de uma tag. Estes métodos fazem o contrário: eles trabalham subindo a árvore, procurando pelas mães de uma tag (ou string). Estes métodos são recursivos, então buscam todos ascendentes de um objeto.\n",
    "\n",
    "Vejamos um exemplo com uma string que está em um nodo folha de nossa árvore:"
   ]
  },
  {
   "cell_type": "code",
   "execution_count": null,
   "id": "cf426d31-d5c8-4270-b142-ca1ce0f0c117",
   "metadata": {},
   "outputs": [],
   "source": [
    "a_string = soup.find(string=\"Lacie\")\n",
    "a_string"
   ]
  },
  {
   "cell_type": "code",
   "execution_count": null,
   "id": "e0d6c701-9ca8-41b1-a269-946d28056073",
   "metadata": {},
   "outputs": [],
   "source": [
    "a_string.find_parents(\"a\")"
   ]
  },
  {
   "cell_type": "code",
   "execution_count": null,
   "id": "22d8ca93-bde6-4328-bff6-508afecdbe5e",
   "metadata": {},
   "outputs": [],
   "source": [
    "a_string.find_parent(\"p\")"
   ]
  },
  {
   "cell_type": "markdown",
   "id": "81e416b3-7b77-4963-96ee-a667c75cee8c",
   "metadata": {
    "jp-MarkdownHeadingCollapsed": true
   },
   "source": [
    "<h4>find_next_siblings() e find_next_sibling()</h4>"
   ]
  },
  {
   "cell_type": "markdown",
   "id": "98f2c26f-1f83-4fc4-98f7-0fc1a084b585",
   "metadata": {},
   "source": [
    "find_next_siblings() buscará todos os próximos objetos que estão no mesmo nível (irmãos), enquanto find_next_sibling() buscará apenas o próximo irmão."
   ]
  },
  {
   "cell_type": "code",
   "execution_count": null,
   "id": "2dafbf3c-3a3f-4c92-99fe-67ca29e4c9ba",
   "metadata": {},
   "outputs": [],
   "source": [
    "elsie = soup.find(id=\"link1\")\n",
    "elsie"
   ]
  },
  {
   "cell_type": "code",
   "execution_count": null,
   "id": "bbcb4837-67cb-49d9-bf2a-85cc49bb83d4",
   "metadata": {},
   "outputs": [],
   "source": [
    "elsie.find_next_siblings()"
   ]
  },
  {
   "cell_type": "code",
   "execution_count": null,
   "id": "57196a38-d4f0-4ece-bd2c-b787e604e3ad",
   "metadata": {},
   "outputs": [],
   "source": [
    "elsie.find_next_sibling()"
   ]
  },
  {
   "cell_type": "markdown",
   "id": "b24efd14-8eec-4346-9e4a-dc994b553577",
   "metadata": {
    "jp-MarkdownHeadingCollapsed": true
   },
   "source": [
    "<h4>find_previous_siblings() e find_previous_sibling()</h4>"
   ]
  },
  {
   "cell_type": "markdown",
   "id": "bd4e5c5e-fb6d-4a36-8b7d-e300786b6cb3",
   "metadata": {},
   "source": [
    "Retornam os irmão(s) que antecedem o objeto."
   ]
  },
  {
   "cell_type": "code",
   "execution_count": null,
   "id": "aad0c60f-63f7-4d3b-bcab-3c6025eb043f",
   "metadata": {},
   "outputs": [],
   "source": [
    "tillie = soup.find(id=\"link3\")\n",
    "tillie"
   ]
  },
  {
   "cell_type": "code",
   "execution_count": null,
   "id": "c9faf9eb-3869-4aa3-bb99-572ad94235b3",
   "metadata": {},
   "outputs": [],
   "source": [
    "tillie.find_previous_siblings()"
   ]
  },
  {
   "cell_type": "code",
   "execution_count": null,
   "id": "f19b50d8-ba8d-4a79-9379-3311fa15616e",
   "metadata": {},
   "outputs": [],
   "source": [
    "tillie.find_previous_sibling()"
   ]
  },
  {
   "cell_type": "markdown",
   "id": "9ab9af40-12d9-4bf6-adf9-5d298fa6cdbe",
   "metadata": {
    "jp-MarkdownHeadingCollapsed": true
   },
   "source": [
    "<h4>find_all_next(), find_all_previous(), find_next() e find_previous()</h4>"
   ]
  },
  {
   "cell_type": "markdown",
   "id": "610effe4-313b-4a92-a6f0-f678bb697d64",
   "metadata": {},
   "source": [
    "Encontram toda(s) tag(s) próxima(s) ou anterior(es)."
   ]
  },
  {
   "cell_type": "code",
   "execution_count": null,
   "id": "d04491d3-2e30-46ec-9e98-56e4ce7ac85d",
   "metadata": {},
   "outputs": [],
   "source": [
    "elsie = soup.find(id=\"link1\")\n",
    "elsie"
   ]
  },
  {
   "cell_type": "code",
   "execution_count": null,
   "id": "51520608-6ad9-491c-b584-0ebad3a904de",
   "metadata": {},
   "outputs": [],
   "source": [
    "elsie.find_next()"
   ]
  },
  {
   "cell_type": "code",
   "execution_count": null,
   "id": "e2dcab13-eaee-4500-8f9b-859f5d8817f1",
   "metadata": {},
   "outputs": [],
   "source": [
    "elsie.find_all_next()"
   ]
  },
  {
   "cell_type": "code",
   "execution_count": null,
   "id": "eb39a500-1450-4973-8a5f-c02e0bea1e36",
   "metadata": {},
   "outputs": [],
   "source": [
    "elsie.find_previous()"
   ]
  },
  {
   "cell_type": "code",
   "execution_count": null,
   "id": "ca51f000-651a-4dda-97dc-615b8a6784dc",
   "metadata": {},
   "outputs": [],
   "source": [
    "elsie.find_all_previous()"
   ]
  },
  {
   "cell_type": "markdown",
   "id": "f3d7a96c-ff0b-4663-afd0-a0778030d681",
   "metadata": {
    "jp-MarkdownHeadingCollapsed": true
   },
   "source": [
    "<h2>Seletores CSS e função select()</h2>"
   ]
  },
  {
   "attachments": {},
   "cell_type": "markdown",
   "id": "f6a25bbe-da23-4cab-8d02-afe6bdb6df2e",
   "metadata": {},
   "source": [
    "Seletores são padrões textuais que casam com algum elemento de uma árvore (de um arquivo XML ou HTML) e que podem ser utilizados para selecionar nodos destas árvores. Uma descrição completa sobre seletores pode ser encontrada em https://www.w3.org/TR/selectors-3/#selector.\n",
    "\n",
    "BeautifulSoup possui um método select() o qual utiliza a bilioteca SoupSieve para executar um seletor CSS sobre um objeto BeautifulSoup e retorna todos os elementos correspondentes. Tag possui um método similar que executa um seletor CSS sobre o conteúdo de uma única tag.\n",
    "\n",
    "Seletores são uma ótima maneira de encontrar informações dentro de um documento HTML. É comum que utilizando a função select() do BeautifulSoup encontremos uma informação de maneira muito mais fácil do que utilizando find_all() e suas variantes. Por esta razão, olharemos um pouco mais a fundo a estrutura de seletores CSS para entender como realizar buscas em nossos documentos utilizando a função select().\n",
    "\n",
    "\n",
    "\n",
    "\n"
   ]
  },
  {
   "cell_type": "markdown",
   "id": "dc1cd68a-7e6b-4399-968a-adedbda72381",
   "metadata": {},
   "source": [
    "<h3>Seletores CSS</h3>\n",
    "\n"
   ]
  },
  {
   "cell_type": "markdown",
   "id": "7ade2eac-8612-4696-87ba-aefc54f2313b",
   "metadata": {},
   "source": [
    "Um seletor representa uma estrutura. Esta estrutura pode ser utilizada como uma condição (em uma regra CSS, por exemplo) que determina quais elementos um seletor dá <b>match</b> na árvore do documento. Eles podem variar de nomes simples de elementos até representações complexas.\n",
    "\n",
    "\n",
    "Um <b>seletor</b> é uma ou mais <b>sequências de seletores simples</b> separados por <b>combinadores</b>.\n",
    "\n",
    "Um <b>seletor simples</b> é sempre um dos tipos a seguir: <i>seletor de tipo</i>; <i>seletor universal</i>; <i>seletor de atributo</i>; <i>seletor de classe</i>; <i>seletor de ID</i>; ou <i>pseudo-classe</i>.\n",
    "\n",
    "Uma <b>sequência de seletores simples</b> é uma cadeia de seletores simples que <b>não</b> estão separados por um <b>combinadores</b>. \n",
    "\n",
    "<b>Combinadores</b> são quatro caracteres que permitem unir os seletores: espaço em branco; > (maior-que); + (mais); ~ (til). São especialmente importantes para nós porque permitirão que façamos buscas combinando seletores, o que aumenta nosso poder de filtragem dos elementos.\n",
    "\n",
    "Elementos de uma árvore de documento que estão representados por um seletor são os ditos <b>sujeitos do seletor</b>."
   ]
  },
  {
   "cell_type": "markdown",
   "id": "255e0ca3-c0e0-40b1-86a4-b180c8495845",
   "metadata": {},
   "source": [
    "<h4>Grupos de Seletores</h4>"
   ]
  },
  {
   "cell_type": "markdown",
   "id": "82f6b83d-94a3-4c71-8601-7db8c883b8bd",
   "metadata": {},
   "source": [
    "É uma lista de seletores separados por vírgula que representa a união de todos elementos selecionados por cada um dos seletores individuais na lista.\n",
    "\n",
    "No exemplo abaixo, três regras de css são condensadas em uma. Sendo assim\n",
    "\n",
    "\n",
    "<pre>h1 { font-family: sans-serif }\n",
    "h2 { font-family: sans-serif }\n",
    "h3 { font-family: sans-serif }</pre>\n",
    "\n",
    "é equivalente a:\n",
    "\n",
    "<pre>h1, h2, h3 { font-family: sans-serif }</pre>"
   ]
  },
  {
   "cell_type": "markdown",
   "id": "c928ce07-7d37-4196-9608-0bd9372ccc90",
   "metadata": {},
   "source": [
    "<h4>Seletores Simples</h4>"
   ]
  },
  {
   "cell_type": "markdown",
   "id": "e2124c70-0679-4af9-98dc-753f42c71d22",
   "metadata": {},
   "source": [
    "Pode ser:\n",
    "- Seletor de tipo;\n",
    "- Seletor universal;\n",
    "- Seletor de atributo;\n",
    "- Seletor de classe;\n",
    "- Seletor de ID;\n",
    "- Pseudo-classe.\n"
   ]
  },
  {
   "cell_type": "markdown",
   "id": "311761fb-a181-4d39-9178-0f35e2128fb9",
   "metadata": {},
   "source": [
    "<h5>Seletor de tipo</h5>"
   ]
  },
  {
   "cell_type": "markdown",
   "id": "d59beb32-b379-421d-aa5b-a12cf0a80f8a",
   "metadata": {},
   "source": [
    "Representa uma instância de um elemento na árvore de documento. Ou seja, é um tipo que pode ser representado por uma tag."
   ]
  },
  {
   "cell_type": "code",
   "execution_count": null,
   "id": "3658000b-f413-4fc7-853c-eebe0f6788e9",
   "metadata": {},
   "outputs": [],
   "source": [
    "soup.select(\"title\")"
   ]
  },
  {
   "cell_type": "markdown",
   "id": "f82ed617-2bed-48e5-ab8d-708f2324e323",
   "metadata": {},
   "source": [
    "<h5>Seletor universal</h5>"
   ]
  },
  {
   "cell_type": "markdown",
   "id": "ba30986c-4463-4032-b1ef-5f4059545555",
   "metadata": {},
   "source": [
    "Representa qualquer elemento único em uma árvore. É representado pelo * (asterisco)."
   ]
  },
  {
   "cell_type": "code",
   "execution_count": null,
   "id": "2edd716f-3b4e-4329-8d53-10a44f9dc2fd",
   "metadata": {},
   "outputs": [],
   "source": [
    "soup.select(\"*\")"
   ]
  },
  {
   "cell_type": "markdown",
   "id": "f8aebf5e-ec9b-4173-a9e5-de2cb4544c33",
   "metadata": {},
   "source": [
    "<h5>Seletor de atributo</h5>"
   ]
  },
  {
   "cell_type": "markdown",
   "id": "5bdb65d0-936c-48f4-a74c-fe98ff0ae917",
   "metadata": {},
   "source": [
    "Permite a representação de atributos de elementos. Quando utilizados, devemos considerar que teremos um <b>match</b> apenas se um elemento (tag) possuir como atributo aquele seletor.\n",
    "\n",
    "Existem várias possibilidades de representação. Dentre elas:\n",
    "- [att] - casa com o elemento que tiver o atributo, independente do valor.\n",
    "- [att=val] - casa com o elemento que tiver o atributo com aquele valor específico.\n",
    "- [att~=val] - casa com o elemento que tiver o atributo com algum dos valores de uma lista separada por espaços.\n",
    "- [att|=val] - casa com o elemento que tiver o atributo que seja ou exatamente o valour ou que comece com o valor seguido de - (hífen)"
   ]
  },
  {
   "cell_type": "code",
   "execution_count": null,
   "id": "9aa505e4-c1c5-481f-967e-c7b34a25a3cd",
   "metadata": {},
   "outputs": [],
   "source": [
    "soup.select(\"[id]\")"
   ]
  },
  {
   "cell_type": "code",
   "execution_count": null,
   "id": "77d76085-f930-4002-a92e-3a776f286d92",
   "metadata": {},
   "outputs": [],
   "source": [
    "soup.select(\"[id=link1]\")"
   ]
  },
  {
   "cell_type": "code",
   "execution_count": null,
   "id": "9426d48b-4bda-4cbc-a1e6-ac90be6a0f3d",
   "metadata": {},
   "outputs": [],
   "source": [
    "soup.select(\"[class^=sto]\")"
   ]
  },
  {
   "cell_type": "markdown",
   "id": "7931f2a6-ed4f-441a-958f-bdb095ff465f",
   "metadata": {},
   "source": [
    "<h5>Seletor de classe</h5>"
   ]
  },
  {
   "cell_type": "markdown",
   "id": "c64d2f27-9852-4adf-ab37-b59851e3f091",
   "metadata": {},
   "source": [
    "Funciona como um atributo, porém em HTML tem um tratamento especial utilizando a notação com \".\" (ponto).\n",
    "\n",
    "Exemplo:\n",
    "\n",
    "<pre>.sister { color: black}</pre>\n",
    "\n",
    "Todos elementos que possuírem a classe \"sister\" terão a cor preta.\n",
    "\n"
   ]
  },
  {
   "cell_type": "code",
   "execution_count": null,
   "id": "900d9edc-62d5-4eaa-bd71-4dd596f7466b",
   "metadata": {},
   "outputs": [],
   "source": [
    "soup.select(\".sister\")"
   ]
  },
  {
   "cell_type": "markdown",
   "id": "dea43379-9ab3-42ec-a9d3-ecc385cfad61",
   "metadata": {},
   "source": [
    "<h5>Seletor de ID</h5>"
   ]
  },
  {
   "cell_type": "markdown",
   "id": "c9019fc9-1e95-4ea5-b81e-281ae20edeb8",
   "metadata": {},
   "source": [
    "ID é um atributo especial porque não podem existir dois elementos que possuam o valor deste atributo igual. Ou seja, é uma maneira de identificar unicamente um elemento. Uma declaração de id sempre inicia com o caractere \"#\".\n",
    "\n",
    "Exemplo:\n",
    "\n",
    "<pre>#link1 { color: black}</pre>\n",
    "\n",
    "O elemento que possuir o id \"link1\" terá a cor preta."
   ]
  },
  {
   "cell_type": "code",
   "execution_count": null,
   "id": "8a7b97d6-22e0-4013-b18d-24309374f6b0",
   "metadata": {},
   "outputs": [],
   "source": [
    "soup.select(\"#link1\")"
   ]
  },
  {
   "cell_type": "code",
   "execution_count": null,
   "id": "e5411ce2-b497-41f4-b779-c9b489cb68fa",
   "metadata": {},
   "outputs": [],
   "source": [
    "soup.select(\"#link1, #link3\")"
   ]
  },
  {
   "cell_type": "markdown",
   "id": "fbb242b0-b7ee-4246-955f-764c178740ec",
   "metadata": {},
   "source": [
    "<h4>Combinadores</h4>"
   ]
  },
  {
   "cell_type": "markdown",
   "id": "1843a889-e1e9-478d-b448-1ae5e2918e6d",
   "metadata": {},
   "source": [
    "São compostos por quatro caracteres (\" \", \">\", \"+\", \"~\") e são separados em três tipos.\n",
    "- Combinadores descendentes\n",
    "- Combinadores de filhos\n",
    "- Combinadores de irmãos"
   ]
  },
  {
   "cell_type": "markdown",
   "id": "3361bfe5-4228-49fc-837c-a50d8d85fa3d",
   "metadata": {},
   "source": [
    "<h5>Combinador descendente</h5>"
   ]
  },
  {
   "cell_type": "markdown",
   "id": "06297e5e-15f5-48e7-9c24-eb7b4825b38f",
   "metadata": {},
   "source": [
    "É representado por \" \" (espaço em branco), e separa seletores que são descendentes de outros, independente do número de níveis.\n",
    "\n",
    "O código abaixo seleciona todas tags que tenham a <b>classe \"sister\"</b> e que sejam descendentes da tag <b>body</b>."
   ]
  },
  {
   "cell_type": "code",
   "execution_count": null,
   "id": "a7e488e9-ed24-4b3b-ae3b-ae0ff9a33301",
   "metadata": {},
   "outputs": [],
   "source": [
    "soup.select(\"body .sister\")"
   ]
  },
  {
   "cell_type": "markdown",
   "id": "021005e6-072a-4f23-b33c-b37d2da255e8",
   "metadata": {},
   "source": [
    "Como o combinador \" \" combina seletores que sejam descendentes em qualquer nível, o código abaixo também seleciona todas tags que tenham a <b>classe \"sister\"</b>, mas agora que sejam descendentes da tag <b>p</b>."
   ]
  },
  {
   "cell_type": "code",
   "execution_count": null,
   "id": "ed12be44-15fa-4770-b8c2-07f59bebd73a",
   "metadata": {},
   "outputs": [],
   "source": [
    "soup.select(\"p .sister\")"
   ]
  },
  {
   "cell_type": "markdown",
   "id": "1f146960-84a1-4a0e-a490-54885efeb665",
   "metadata": {},
   "source": [
    "<h5>Combinador de filho</h5>"
   ]
  },
  {
   "cell_type": "raw",
   "id": "0d39282d-8d55-43b0-82cc-8c275f048a8c",
   "metadata": {},
   "source": [
    "É representado por \">\" (maior que) e separa seletores que sejam filhos diretos. O seletor a direita é filho do seletor a esquerda.\n",
    "\n",
    "Agora se executarmos os mesmos códigos utilizados na seção do combinador descendente, apenas o segundo código retornará alguma tag, pois não existe tag com a classe \"sister\" que seja filha da tag body."
   ]
  },
  {
   "cell_type": "code",
   "execution_count": null,
   "id": "22bff825-6b69-40b1-98e3-e3cd02f0aadb",
   "metadata": {},
   "outputs": [],
   "source": [
    "soup.select(\"body > .sister\")"
   ]
  },
  {
   "cell_type": "code",
   "execution_count": null,
   "id": "6f58ebcf-960e-4b84-bdc1-dfedc0b401df",
   "metadata": {},
   "outputs": [],
   "source": [
    "soup.select(\"p > .sister\")"
   ]
  },
  {
   "cell_type": "code",
   "execution_count": null,
   "id": "49d1e190-30b3-4943-9433-da23e03cc7a2",
   "metadata": {},
   "outputs": [],
   "source": [
    "soup.select(\"body > p > .sister\")"
   ]
  },
  {
   "cell_type": "markdown",
   "id": "8541d137-e91b-4a7c-81fe-67b186047a95",
   "metadata": {},
   "source": [
    "<h5>Combinador de irmãos</h5>"
   ]
  },
  {
   "cell_type": "markdown",
   "id": "f7241664-ffe3-4d92-9d26-511cb4c0720d",
   "metadata": {},
   "source": [
    "Possui dois casos diferentes. Um seletor que represente a tag que seja a irmã imediatamente após o primeiro seletor é representado por \"+\". Já o caractertere \"~\" representa todos os irmãos subsequentes.\n",
    "\n",
    "Abaixo primeiro selecionamos qualquer que seja a tag imediatamente irmã à tag que tenha id = \"link1\". Representamos \"qualquer tag\" com o seletor universal \"*\". Depois, selecionamos todas tags irmãs da tag que tenha id = \"link1\", novamente utilizando o seletor universal."
   ]
  },
  {
   "cell_type": "code",
   "execution_count": null,
   "id": "45ebfb0f-8e5b-40f4-901c-aa5cfd6c315e",
   "metadata": {},
   "outputs": [],
   "source": [
    "soup.select(\"#link1 + *\")"
   ]
  },
  {
   "cell_type": "code",
   "execution_count": null,
   "id": "c9b47dea-e5fd-4731-82eb-02d165abeb5e",
   "metadata": {},
   "outputs": [],
   "source": [
    "soup.select(\"#link1 ~ *\")"
   ]
  },
  {
   "cell_type": "markdown",
   "id": "07631f43-a804-4434-9061-c596cdf628fb",
   "metadata": {},
   "source": [
    "<h2>Exercícios</h2>"
   ]
  },
  {
   "cell_type": "markdown",
   "id": "0da2a06a-9943-46b7-8360-d76aa9285ce1",
   "metadata": {},
   "source": [
    "<h3>Exercício 1</h3>"
   ]
  },
  {
   "cell_type": "markdown",
   "id": "a807db56-24cd-45fe-b5c8-92ab718ecfbd",
   "metadata": {},
   "source": [
    "Utilizando o método find_all() e suas variações junto ao HTML passado, resolva as questões abaixo."
   ]
  },
  {
   "cell_type": "code",
   "execution_count": null,
   "id": "9776d9b1-ba5a-442a-bdbc-2890963e6904",
   "metadata": {},
   "outputs": [],
   "source": [
    "soup = BeautifulSoup(html_doc)\n",
    "print(soup)"
   ]
  },
  {
   "cell_type": "markdown",
   "id": "42299e47-fd74-43f6-9095-5786039dc337",
   "metadata": {},
   "source": [
    "<b>a) Todas tags da classe \"story\"</b>"
   ]
  },
  {
   "cell_type": "code",
   "execution_count": null,
   "id": "13db9fa0-d300-46a3-bec6-be015c539fac",
   "metadata": {},
   "outputs": [],
   "source": [
    "#inicio do código\n",
    "\n",
    "#fim do código"
   ]
  },
  {
   "cell_type": "markdown",
   "id": "b3ef0d58-1bf4-4494-ad8a-97fc767ec7d4",
   "metadata": {},
   "source": [
    "<b>b) Tag que tenha atributo <b>id</b> com valor \"link2\" e todas suas irmãs subsequentes</b>"
   ]
  },
  {
   "cell_type": "code",
   "execution_count": null,
   "id": "83573f77-3c42-4228-8dfa-f2036ff0eba4",
   "metadata": {},
   "outputs": [],
   "source": [
    "#inicio do código\n",
    "\n",
    "#fim do código"
   ]
  },
  {
   "cell_type": "markdown",
   "id": "d7fe8e9d-a343-40b1-8b3e-9247f9ce5268",
   "metadata": {},
   "source": [
    "<h3>Exercício 2</h3>"
   ]
  },
  {
   "cell_type": "markdown",
   "id": "e5cbc8a8-10af-46ab-badf-3400539384b5",
   "metadata": {},
   "source": [
    "Faça uma busca no nosso html utilizando a função select() para cada uma das questões abaixo.\n",
    "\n",
    "\n",
    "\n",
    "\n"
   ]
  },
  {
   "cell_type": "markdown",
   "id": "121a8d0a-2b72-4bf5-bdfc-80d2516a86c0",
   "metadata": {},
   "source": [
    "<b>a) Todas as tags b que estão dentro de um p</b>"
   ]
  },
  {
   "cell_type": "code",
   "execution_count": null,
   "id": "3f066e4e-3a38-46b4-a615-51a2b778a7e4",
   "metadata": {},
   "outputs": [],
   "source": [
    "#inicio do código\n",
    "\n",
    "#fim do código"
   ]
  },
  {
   "cell_type": "markdown",
   "id": "7a79e66c-cf5a-4127-9da3-5461635c26a5",
   "metadata": {},
   "source": [
    "<b>b) Todas as tags da classe = \"story\"</b>"
   ]
  },
  {
   "cell_type": "code",
   "execution_count": null,
   "id": "e3035006-ed48-4e85-a30c-41e46c7d65d3",
   "metadata": {},
   "outputs": [],
   "source": [
    "#inicio do código\n",
    "\n",
    "#fim do código"
   ]
  },
  {
   "cell_type": "markdown",
   "id": "4afcc35b-3dba-4d20-b90d-fb33aac6a8f7",
   "metadata": {},
   "source": [
    "<b>c) Tag com atributo id = \"link2\" e as suas irmãs subsequentes\n",
    "</b>"
   ]
  },
  {
   "cell_type": "code",
   "execution_count": null,
   "id": "5afd4a0d-06c8-48f0-b916-9c50edba6a52",
   "metadata": {},
   "outputs": [],
   "source": [
    "#inicio do código\n",
    "\n",
    "#fim do código"
   ]
  }
 ],
 "metadata": {
  "kernelspec": {
   "display_name": "Python 3 (ipykernel)",
   "language": "python",
   "name": "python3"
  },
  "language_info": {
   "codemirror_mode": {
    "name": "ipython",
    "version": 3
   },
   "file_extension": ".py",
   "mimetype": "text/x-python",
   "name": "python",
   "nbconvert_exporter": "python",
   "pygments_lexer": "ipython3",
   "version": "3.11.4"
  }
 },
 "nbformat": 4,
 "nbformat_minor": 5
}
